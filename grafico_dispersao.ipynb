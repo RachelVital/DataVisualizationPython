{
  "nbformat": 4,
  "nbformat_minor": 0,
  "metadata": {
    "colab": {
      "name": "grafico_dispersao.ipynb",
      "provenance": [],
      "collapsed_sections": [],
      "authorship_tag": "ABX9TyPfORrPvxflsBWqm0DvUPXb",
      "include_colab_link": true
    },
    "kernelspec": {
      "name": "python3",
      "display_name": "Python 3"
    }
  },
  "cells": [
    {
      "cell_type": "markdown",
      "metadata": {
        "id": "view-in-github",
        "colab_type": "text"
      },
      "source": [
        "<a href=\"https://colab.research.google.com/github/RachelVital/DataVisualizationPython/blob/master/grafico_dispersao.ipynb\" target=\"_parent\"><img src=\"https://colab.research.google.com/assets/colab-badge.svg\" alt=\"Open In Colab\"/></a>"
      ]
    },
    {
      "cell_type": "code",
      "metadata": {
        "id": "4Wr7yf1lufFa",
        "colab_type": "code",
        "outputId": "860c50b9-368c-4251-ccff-a0d22026f9cd",
        "colab": {
          "base_uri": "https://localhost:8080/",
          "height": 350
        }
      },
      "source": [
        "#Visualização de dados\n",
        "#Gráfico Dispersão - Phyton\n",
        "\n",
        "# Marcadores (marker)\n",
        "#'.' point marker\n",
        "#',' pixel marker\n",
        "#'o' circle marker\n",
        "#'v' triangle_down marker\n",
        "#'^' triangle_up marker\n",
        "#'<' triangle_left marker\n",
        "#'>' triangle_right marker\n",
        "#'1' tri_down marker\n",
        "#'2' tri_up marker\n",
        "#'3' tri_left marker\n",
        "#'4' tri_right marker\n",
        "#'s' square marker\n",
        "#'p' pentagon marker\n",
        "#'*' star marker\n",
        "#'h' hexagon1 marker\n",
        "#'H' hexagon2 marker\n",
        "#'+' plus marker\n",
        "#'x' x marker\n",
        "#'D' diamond marker\n",
        "#'d' thin_diamond marker\n",
        "#'|' vline marker\n",
        "#'_' hline marker\n",
        "\n",
        "\n",
        "\n",
        "import matplotlib.pyplot as plt\n",
        "\n",
        "x = [1, 3, 5, 7, 9]\n",
        "y = [2, 3, 7, 1, 0]\n",
        "Z = [2000, 25 , 500, 10000, 10]\n",
        "\n",
        "titulo = \"Scatterplot: gráfico de dispersão\"\n",
        "eixoX = \"Eixo X\"\n",
        "eixoY = \"Eixo Y\"\n",
        "\n",
        "\n",
        "plt.title(titulo)\n",
        "plt.xlabel(eixoX)\n",
        "plt.ylabel(eixoY)\n",
        "\n",
        "plt.scatter(x,y, label=\"Pontos\", color= \"R\", marker = \".\", s=Z)\n",
        "plt.plot(x,y, color = \"#009999\", linestyle=\"--\")\n",
        "\n",
        "plt.show\n",
        "#Salva o gráfico como figura. PDF salva em alta definição\n",
        "#plt.savefig(\"grafico1.pdf\")\n"
      ],
      "execution_count": 1,
      "outputs": [
        {
          "output_type": "stream",
          "text": [
            "/usr/local/lib/python3.6/dist-packages/ipykernel_launcher.py:19: MatplotlibDeprecationWarning: Support for uppercase single-letter colors is deprecated since Matplotlib 3.1 and will be removed in 3.3; please use lowercase instead.\n"
          ],
          "name": "stderr"
        },
        {
          "output_type": "execute_result",
          "data": {
            "text/plain": [
              "<function matplotlib.pyplot.show>"
            ]
          },
          "metadata": {
            "tags": []
          },
          "execution_count": 1
        },
        {
          "output_type": "display_data",
          "data": {
            "image/png": "[encoded data removed]",
            "text/plain": [
              "<Figure size 432x288 with 1 Axes>"
            ]
          },
          "metadata": {
            "tags": []
          }
        }
      ]
    }
  ]
}