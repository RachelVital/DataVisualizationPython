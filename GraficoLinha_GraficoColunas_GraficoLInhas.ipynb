{
  "nbformat": 4,
  "nbformat_minor": 0,
  "metadata": {
    "colab": {
      "name": "GraficoLinha_GraficoColunas_GraficoLInhas.ipynb",
      "provenance": [],
      "collapsed_sections": [],
      "authorship_tag": "ABX9TyNYqtCxYgf4r44TLDu8j5d2",
      "include_colab_link": true
    },
    "kernelspec": {
      "name": "python3",
      "display_name": "Python 3"
    }
  },
  "cells": [
    {
      "cell_type": "markdown",
      "metadata": {
        "id": "view-in-github",
        "colab_type": "text"
      },
      "source": [
        "<a href=\"https://colab.research.google.com/github/RachelVital/DataVisualizationPython/blob/master/GraficoLinha_GraficoColunas_GraficoLInhas.ipynb\" target=\"_parent\"><img src=\"https://colab.research.google.com/assets/colab-badge.svg\" alt=\"Open In Colab\"/></a>"
      ]
    },
    {
      "cell_type": "code",
      "metadata": {
        "id": "ijXLpTq7ghcP",
        "colab_type": "code",
        "outputId": "d8dfb46e-b966-4a1f-dec8-0eb256cf6cb7",
        "colab": {
          "base_uri": "https://localhost:8080/",
          "height": 295
        }
      },
      "source": [
        "#Visualização de dados em Python\n",
        "\n",
        "import matplotlib.pyplot as plt\n",
        "\n",
        "#Valores\n",
        "x = [1, 2, 3, 4, 5]\n",
        "y = [2, 3, 7, 9 , 11]\n",
        "\n",
        "\n",
        "tituloGraficoBarra = \"Gráfico de Barras\"\n",
        "eixox = \"Eixo X\"\n",
        "eixoy = \"Eixo Y\"\n",
        "\n",
        "\n",
        "#Legendas\n",
        "plt.title(\"Meu primeiro gráfico com Phyton\")\n",
        "plt.xlabel(eixox)\n",
        "plt.ylabel(eixoy)\n",
        "\n",
        "# Gráfico em Linha\n",
        "plt.plot(x, y)\n",
        "#plt.show();\n",
        "\n",
        "\n",
        "#Valores gráfico Coluna\n",
        "xValores = [1, 2, 3, 4, 5]\n",
        "yValores = [2, 3, 7, 1, 0]\n",
        "\n",
        "plt.bar(xValores, yValores)\n",
        "plt.show()"
      ],
      "execution_count": 6,
      "outputs": [
        {
          "output_type": "display_data",
          "data": {
            "image/png": "[encoded data removed]",
            "text/plain": [
              "<Figure size 432x288 with 1 Axes>"
            ]
          },
          "metadata": {
            "tags": []
          }
        }
      ]
    },
    {
      "cell_type": "code",
      "metadata": {
        "id": "KIjtUxvukEEm",
        "colab_type": "code",
        "colab": {}
      },
      "source": [
        ""
      ],
      "execution_count": 0,
      "outputs": []
    },
    {
      "cell_type": "code",
      "metadata": {
        "id": "73-jDu0SkEZP",
        "colab_type": "code",
        "colab": {}
      },
      "source": [
        ""
      ],
      "execution_count": 0,
      "outputs": []
    }
  ]
}