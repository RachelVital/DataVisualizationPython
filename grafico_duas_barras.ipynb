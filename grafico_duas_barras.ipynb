{
  "nbformat": 4,
  "nbformat_minor": 0,
  "metadata": {
    "colab": {
      "name": "grafico_duas_barras.ipynb",
      "provenance": [],
      "collapsed_sections": [],
      "authorship_tag": "ABX9TyM1JhbSi8JCMyJVs+KuxyfL",
      "include_colab_link": true
    },
    "kernelspec": {
      "name": "python3",
      "display_name": "Python 3"
    }
  },
  "cells": [
    {
      "cell_type": "markdown",
      "metadata": {
        "id": "view-in-github",
        "colab_type": "text"
      },
      "source": [
        "<a href=\"https://colab.research.google.com/github/RachelVital/DataVisualizationPython/blob/master/grafico_duas_barras.ipynb\" target=\"_parent\"><img src=\"https://colab.research.google.com/assets/colab-badge.svg\" alt=\"Open In Colab\"/></a>"
      ]
    },
    {
      "cell_type": "code",
      "metadata": {
        "id": "r5B3K-MKqt8R",
        "colab_type": "code",
        "outputId": "fddd5dae-4214-492e-ea7f-94c21a7f2955",
        "colab": {
          "base_uri": "https://localhost:8080/",
          "height": 313
        }
      },
      "source": [
        "#Visualizacao de dados em Pyhton\n",
        "\n",
        "import matplotlib.pyplot as plt\n",
        "\n",
        "x1 = [1, 3, 5, 7, 9, 11]\n",
        "y1 = [2, 3, 7, 1, 0, 6]\n",
        "\n",
        "x2 = [ 2, 4, 6, 8, 10, 12]\n",
        "y2 = [5, 1, 3, 7, 4, 2 ]\n",
        "\n",
        "titulo = \"Gráfico de barras\"\n",
        "eixoX= \"Eixo X valor\"\n",
        "eixoY= \"Eixo Y valor\"\n",
        "\n",
        "plt.title(titulo)\n",
        "plt.xlabel (eixoX)\n",
        "plt.ylabel (eixoY)\n",
        "\n",
        "plt.bar(x1, y1, label = \"Grupo 1\")\n",
        "plt.bar (x2, y2, label =\"Grupo 2\")\n",
        "plt.show\n"
      ],
      "execution_count": 2,
      "outputs": [
        {
          "output_type": "execute_result",
          "data": {
            "text/plain": [
              "<function matplotlib.pyplot.show>"
            ]
          },
          "metadata": {
            "tags": []
          },
          "execution_count": 2
        },
        {
          "output_type": "display_data",
          "data": {
            "image/png": "[encoded data removed]",
            "text/plain": [
              "<Figure size 432x288 with 1 Axes>"
            ]
          },
          "metadata": {
            "tags": []
          }
        }
      ]
    }
  ]
}